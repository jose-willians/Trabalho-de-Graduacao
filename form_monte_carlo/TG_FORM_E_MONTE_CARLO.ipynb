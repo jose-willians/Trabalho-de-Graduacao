{
 "nbformat": 4,
 "nbformat_minor": 0,
 "metadata": {
  "colab": {
   "provenance": []
  },
  "kernelspec": {
   "name": "python3",
   "language": "python",
   "display_name": "Python 3 (ipykernel)"
  },
  "language_info": {
   "name": "python"
  }
 },
 "cells": [
  {
   "cell_type": "markdown",
   "metadata": {
    "id": "GlXWiUcFb2ML"
   },
   "source": [
    "# <center>BIBLIOTECAS  </center>"
   ]
  },
  {
   "cell_type": "code",
   "execution_count": 5,
   "outputs": [],
   "source": [
    "import pandas as pd\n",
    "\n",
    "from sympy import symbols, diff\n",
    "\n",
    "import random\n",
    "\n",
    "import matplotlib.pyplot as plt\n",
    "import numpy as np\n",
    "import seaborn as sns\n",
    "\n",
    "from scipy.stats import weibull_min\n",
    "\n",
    "\n",
    "%matplotlib inline\n",
    "from scipy.stats import norm\n",
    "\n",
    "pd.set_option('display.max_columns', None)"
   ],
   "metadata": {
    "collapsed": false,
    "ExecuteTime": {
     "end_time": "2023-06-16T02:37:51.466201200Z",
     "start_time": "2023-06-16T02:37:51.434913100Z"
    }
   }
  },
  {
   "cell_type": "markdown",
   "metadata": {
    "id": "pYLvRBbZb_aX"
   },
   "source": [
    "#<center> FUNÇÕES AUXILIARES DO PROGRAMA </center>\n"
   ]
  },
  {
   "cell_type": "code",
   "metadata": {
    "id": "3DDkXr5xcC0y",
    "ExecuteTime": {
     "end_time": "2023-06-16T02:40:18.776193200Z",
     "start_time": "2023-06-16T02:40:18.767778300Z"
    }
   },
   "source": [
    "def gera_distribuicao_normal(n_simulacoes=1000000, mu=0, sigma=1):\n",
    "    \"\"\"\n",
    "    cria distribuição normal com média e desvio padrão de imput\n",
    "\n",
    "    :param n_simulacoes: tamanho do vetor\n",
    "    :param mu: média da distribuicao\n",
    "    :param sigma: desvio padrão\n",
    "    :return: array com valores gerados seguindo a distribuição Normal\n",
    "    \"\"\"\n",
    "    lista_valores_px = []\n",
    "    acumulador = 0\n",
    "    while acumulador <= n_simulacoes:\n",
    "        lista_valores_px.append(random.normalvariate(mu=mu, sigma=sigma))\n",
    "        acumulador = acumulador + 1\n",
    "    return np.array(lista_valores_px)\n",
    "\n",
    "\n",
    "def gera_distribuicao_extremo_tipo_1(n_simulacoes=1000000, mu=50, sigma=5):\n",
    "    \"\"\"\n",
    "    cria distribuição extremo tipo 1 (Gumbel) com média e desvio padrão de imput\n",
    "\n",
    "    :param n_simulacoes: tamanho do vetor\n",
    "    :param mu: média da distribuicao\n",
    "    :param sigma: desvio padrão\n",
    "    :return: array com valores gerados seguindo a distribuição Extremo Tipo 1\n",
    "    \"\"\"\n",
    "    lista_valores_px = []\n",
    "    acumulador = 0\n",
    "    while acumulador <= n_simulacoes:\n",
    "        lista_valores_px.append(((np.log(-np.log(np.random.uniform()))) * sigma) + mu)\n",
    "        acumulador = acumulador + 1\n",
    "    return np.array(lista_valores_px)\n",
    "\n",
    "\n",
    "def gera_distribuicao_weibull_two_params(n_simulacoes, lam, k):\n",
    "    \"\"\"\n",
    "\n",
    "    cria distribuição weibull  de dois parametros de imput fator de modulo e escala\n",
    "\n",
    "    :param n_simulacoes: number of samples\n",
    "    :param lam: scale beta\n",
    "    :param k: shape alpha\n",
    "    :return: array com valores gerados seguindo a distribuição Weibull\n",
    "    \"\"\"\n",
    "\n",
    "    n = n_simulacoes\n",
    "\n",
    "    x = weibull_min.rvs(k, loc=0, scale=lam, size=n)\n",
    "    return x\n",
    "\n",
    "\n",
    "def gera_distribuicao_log_normal(n_simulacoes=1000000, mu=38, sigma=3.8):\n",
    "    \"\"\"\n",
    "    cria distribuição Lognormal paramertros media e desvio padrao\n",
    "    :param n_simulacoes: número de simulações\n",
    "    :param mu: média\n",
    "    :param sigma: desvio padrão\n",
    "    :return: array com valores gerados seguindo a distribuição Log Normal\n",
    "    \"\"\"\n",
    "    n = n_simulacoes\n",
    "    x = np.random.lognormal(mu, sigma, n)\n",
    "    return x\n",
    "\n",
    "\n",
    "def calculate_normal_equivalent_log_normal(mu=38, delta_f=0.1):\n",
    "    \"\"\"\n",
    "    calculo da normal equivalente a partir da distribuição log normal\n",
    "    :param mu: media\n",
    "    :param delta_f:\n",
    "    :return: media e desvio padrao da normal equivalente\n",
    "    \"\"\"\n",
    "    qsi = np.sqrt(np.log(1 + delta_f ** 2))\n",
    "    lambda_f = np.log(mu) - (0.5 * qsi ** 2)\n",
    "    mu_norm = mu * (1 - np.log(mu) + lambda_f)\n",
    "    sigma_norm = qsi * mu\n",
    "    return mu_norm, sigma_norm\n",
    "\n",
    "\n",
    "def calculate_normal_equivalent_log_normal_2(mu=27.64, sigma=3.79):\n",
    "    \"\"\"\n",
    "    Two-Parameter Equivalent NormalTransformation Rackwitz-Fiessler method:\n",
    "    :param mu: media\n",
    "    :param sigma: desvio padrao\n",
    "    :return: media e desvio padrao da normal equivalente\n",
    "    \"\"\"\n",
    "    delta_f = sigma / mu\n",
    "    qsi = np.sqrt(np.log(1 + delta_f ** 2))\n",
    "    lambd_f = np.log(mu) - (0.5 * (qsi ** 2))\n",
    "    cdf = (1 / (np.sqrt(2 * np.pi) * qsi * mu)) * (np.exp(-0.5 * ((np.log(mu) - lambd_f) / qsi) ** 2))\n",
    "    inv_pdf = (np.log(mu) - lambd_f) / qsi\n",
    "    ppf = (1 / (np.sqrt(2 * np.pi))) * np.exp(-0.5 * inv_pdf ** 2)\n",
    "\n",
    "    sigma_nomr_y = ppf / cdf\n",
    "    mu_normr_y = mu - (inv_pdf * sigma_nomr_y)\n",
    "\n",
    "    return mu_normr_y, sigma_nomr_y\n",
    "\n",
    "\n",
    "def calculate_normal_equivalent_extremo_tipo_1(mu=50, sigma=5):\n",
    "    \"\"\"\n",
    "    Two-Parameter Equivalent NormalTransformation Rackwitz-Fiessler method:\n",
    "    Normal Equivalente a partir da distribuição de extremo tipo I\n",
    "    :param sigma:\n",
    "    :param mu: media\n",
    "    :return:\n",
    "    \"\"\"\n",
    "    #### T:\n",
    "    u_n = mu\n",
    "    a_n = 1 / sigma\n",
    "\n",
    "    ##### Calulando Cdf (função de probabilidade Acumulada da distribuicao:)\n",
    "\n",
    "    cdf_star = np.exp(-(np.exp(-a_n * (mu - u_n))))\n",
    "\n",
    "    ##### calculando PDF ( função de densidade de probabilidade original da distribuicao):\n",
    "    pdf_star = a_n * np.exp(-a_n * (mu - u_n)) * np.exp(-np.exp(-a_n * (mu - u_n)))\n",
    "\n",
    "    sigma_norm = (norm.pdf(norm.ppf(cdf_star)) / pdf_star)\n",
    "    mu_norm = mu - ((norm.ppf(cdf_star)) * sigma_norm)\n",
    "\n",
    "    return mu_norm, sigma_norm\n",
    "\n",
    "\n",
    "def gera_grafico_distribuicao(dist, label=\"Normal\", name='test'):\n",
    "    \"\"\"\n",
    "    gera gráfico da distribuição\n",
    "    :param dist: vetor da distribuicao\n",
    "    :param label: legenda\n",
    "    :param name: nome do grafico\n",
    "    :return: gráfico\n",
    "    \"\"\"\n",
    "    sns.set(style=\"white\", palette=\"muted\", color_codes=True)\n",
    "\n",
    "    sns.despine(left=True)\n",
    "\n",
    "    sns.displot(dist, label=label, color=\"BLUE\")\n",
    "    plt.title(name)\n",
    "    plt.legend()\n",
    "    plt.show()\n",
    "\n"
   ],
   "execution_count": 11,
   "outputs": []
  },
  {
   "cell_type": "markdown",
   "source": [],
   "metadata": {
    "collapsed": false
   }
  },
  {
   "cell_type": "markdown",
   "metadata": {
    "id": "8zbmzvq9kS7C"
   },
   "source": [
    "#<center> RESOLUÇÃO VIA FORM </center>"
   ]
  },
  {
   "cell_type": "code",
   "metadata": {
    "id": "reetJIQNdauo",
    "colab": {
     "base_uri": "https://localhost:8080/"
    },
    "outputId": "a544dab0-0360-43e4-b161-4fa2c74c4366",
    "ExecuteTime": {
     "end_time": "2023-06-16T02:38:02.403990100Z",
     "start_time": "2023-06-16T02:38:01.637831400Z"
    }
   },
   "source": [
    "##### inicio do problema :\n",
    "##### construção do data frame e contadores:\n",
    "data_resultados=pd.DataFrame()\n",
    "i=0\n",
    "dif_beta=0.1\n",
    "\n",
    "data_resultados[\"Iteração\"]=[]\n",
    "data_resultados[\"beta\"]=[]\n",
    "data_resultados[\"G(u)\"]=[]\n",
    "data_resultados[\"Grad_G(u)\"]=[]\n",
    "data_resultados[\"(U_x,U_y)\"]=[]\n",
    "\n",
    "list_i=[]\n",
    "list_grad=[]\n",
    "list_g_U=[]\n",
    "list_mpp=[]\n",
    "list_beta=[]\n",
    "\n",
    "#### CONSTANTES MATERIAL COMPÓSITO:\n",
    "rho_fibra=0.2 #Percentual de Fibra\n",
    "rho_matriz=0.8 #Percentual de Resina\n",
    "\n",
    "#### DEFININDO DISTRIBUIÇÕES DE PROBABILIDADE INICIAIS (médias, desvio padrao):\n",
    "\n",
    "d_h=(0.2,0.01) # ~ Normal (m)\n",
    "d_t=(0.02,0.001) # ~ Normal (m)\n",
    "d_sigma_fibra=(3516000000,175800000) # ~ Normal (m)\n",
    "d_E_fibra=(234430000000,11721500000) # ~ Normal (N/m^2)\n",
    "d_E_matriz=(3350000000,167500000) # ~ Normal (N/m^2)\n",
    "d_b=(0.05,0.0025) # ~ Normal (m)\n",
    "d_q=(100000,5000) # ~ Extremo tipo I (N)\n",
    "d_l=(2,0.100) # ~ Normal (m)\n",
    "\n",
    "\n",
    "###### DEFINIÇÃO DAS VARIÁVEIS ALEÁTORIAS NO ESPAÇO ORIGINAL E REDUZIDO:\n",
    "h,t,sigma_fibra,E_fibra,E_matriz,b,q,l,h_reduzido,t_reduzido,sigma_fibra_reduzido,E_fibra_reduzido,E_matriz_reduzido,b_reduzido,q_reduzido,l_reduzido = symbols('h t sigma_fibra E_fibra E_matriz b q l h_reduzido t_reduzido sigma_fibra_reduzido E_fibra_reduzido E_matriz_reduzido b_reduzido q_reduzido l_reduzido', real=True)\n",
    "\n",
    "###### DEFINIÇÃO DA FUNÇÃO DE PERFORMANCE DO PROBLEMA NO ESPAÇO ORIGINAL:\n",
    "\n",
    "g = ((2/(h+(2*t)))*(sigma_fibra/E_fibra)*(rho_fibra*E_fibra+rho_matriz*E_matriz)*((t/12)*((h**3)+((2*b)*((4*t**2)+(3*(h**2)))))))-((q*(l**2))/2)\n",
    "\n",
    "\n",
    "#### NORMALIZAR VARIÁVEL EXTREMO TIPO I:\n",
    "q_N=calculate_normal_equivalent_extremo_tipo_1(d_q[0],d_q[1])\n",
    "\n",
    "\n",
    "### VETOR DAS VARIAVEIS ALEÁTORIAS NO ESPAÇO REDUZIDO:\n",
    "X=np.array([d_h[0]+h_reduzido*d_h[1],d_t[0]+t_reduzido*d_t[1],d_sigma_fibra[0]+sigma_fibra_reduzido*d_sigma_fibra[1],\n",
    "            d_E_fibra[0]+E_fibra_reduzido*d_E_fibra[1],d_E_matriz[0]+E_matriz_reduzido*d_E_matriz[1],\n",
    "            d_b[0]+b_reduzido*d_b[1],\n",
    "            q_N[0]+q_reduzido*q_N[1],\n",
    "            d_l[0]+l_reduzido*d_l[1]])\n",
    "\n",
    "##### FUNÇÃO DE PERFOMANCE NO ESPAÇO REDUZIDO:\n",
    "G_u= ((2/(X[0]+(2*X[1])))*(X[2]/X[3])*(rho_fibra*X[3]+rho_matriz*X[4])*((X[1]/12)*((X[0]**3)+((2*X[5])*((4*X[1]**2)+(3*(X[0]**2)))))))-((X[6]*(X[7]**2))/2)\n",
    "\n",
    "##### PONTO DE PARTIDA:\n",
    "mpp_star = np.array([0,0,0,0,0,0,0,0], dtype=float)\n",
    "\n",
    "#### TOLERÂNCIA DO BETA:\n",
    "toll=0.000005\n",
    "\n",
    "#### ÍNICIO DA ITERAÇÃO:\n",
    "while  dif_beta> toll:\n",
    "  list_i.append(i)\n",
    "\n",
    "#################### GRADIENTE ########################\n",
    "  dgu_dh_reduzido= (diff(G_u, h_reduzido)).subs(h_reduzido,mpp_star[0]).subs(t_reduzido,mpp_star[1]).subs(sigma_fibra_reduzido,mpp_star[2]).subs(E_fibra_reduzido,mpp_star[3]).subs(E_matriz_reduzido,mpp_star[4]).subs(b_reduzido,mpp_star[5]).subs(q_reduzido,mpp_star[6]).subs(l_reduzido,mpp_star[7])\n",
    "  dgu_dt_reduzido=(diff(G_u, t_reduzido)).subs(h_reduzido,mpp_star[0]).subs(t_reduzido,mpp_star[1]).subs(sigma_fibra_reduzido,mpp_star[2]).subs(E_fibra_reduzido,mpp_star[3]).subs(E_matriz_reduzido,mpp_star[4]).subs(b_reduzido,mpp_star[5]).subs(q_reduzido,mpp_star[6]).subs(l_reduzido,mpp_star[7])\n",
    "  dgu_dsigma_fibra_reduzido=(diff(G_u, sigma_fibra_reduzido)).subs(h_reduzido,mpp_star[0]).subs(t_reduzido,mpp_star[1]).subs(sigma_fibra_reduzido,mpp_star[2]).subs(E_fibra_reduzido,mpp_star[3]).subs(E_matriz_reduzido,mpp_star[4]).subs(b_reduzido,mpp_star[5]).subs(q_reduzido,mpp_star[6]).subs(l_reduzido,mpp_star[7])\n",
    "  dgu_dE_fibra_reduzido=(diff(G_u, E_fibra_reduzido)).subs(h_reduzido,mpp_star[0]).subs(t_reduzido,mpp_star[1]).subs(sigma_fibra_reduzido,mpp_star[2]).subs(E_fibra_reduzido,mpp_star[3]).subs(E_matriz_reduzido,mpp_star[4]).subs(b_reduzido,mpp_star[5]).subs(q_reduzido,mpp_star[6]).subs(l_reduzido,mpp_star[7])\n",
    "  dgu_dE_matriz_reduzido=(diff(G_u, E_matriz_reduzido)).subs(h_reduzido,mpp_star[0]).subs(t_reduzido,mpp_star[1]).subs(sigma_fibra_reduzido,mpp_star[2]).subs(E_fibra_reduzido,mpp_star[3]).subs(E_matriz_reduzido,mpp_star[4]).subs(b_reduzido,mpp_star[5]).subs(q_reduzido,mpp_star[6]).subs(l_reduzido,mpp_star[7])\n",
    "  dgu_db_reduzido=(diff(G_u, b_reduzido)).subs(h_reduzido,mpp_star[0]).subs(t_reduzido,mpp_star[1]).subs(sigma_fibra_reduzido,mpp_star[2]).subs(E_fibra_reduzido,mpp_star[3]).subs(E_matriz_reduzido,mpp_star[4]).subs(b_reduzido,mpp_star[5]).subs(q_reduzido,mpp_star[6]).subs(l_reduzido,mpp_star[7])\n",
    "  dgu_dq_reduzido=(diff(G_u, q_reduzido)).subs(h_reduzido,mpp_star[0]).subs(t_reduzido,mpp_star[1]).subs(sigma_fibra_reduzido,mpp_star[2]).subs(E_fibra_reduzido,mpp_star[3]).subs(E_matriz_reduzido,mpp_star[4]).subs(b_reduzido,mpp_star[5]).subs(q_reduzido,mpp_star[6]).subs(l_reduzido,mpp_star[7])\n",
    "  dgu_dl_reduzido=(diff(G_u, l_reduzido)).subs(h_reduzido,mpp_star[0]).subs(t_reduzido,mpp_star[1]).subs(sigma_fibra_reduzido,mpp_star[2]).subs(E_fibra_reduzido,mpp_star[3]).subs(E_matriz_reduzido,mpp_star[4]).subs(b_reduzido,mpp_star[5]).subs(q_reduzido,mpp_star[6]).subs(l_reduzido,mpp_star[7])\n",
    "\n",
    "##### GRADIENTE CALCULADO NO MPP STAR:\n",
    "  gradiente_gu_mpp=np.array([dgu_dh_reduzido,dgu_dt_reduzido,dgu_dsigma_fibra_reduzido,dgu_dE_fibra_reduzido,dgu_dE_matriz_reduzido,dgu_db_reduzido,dgu_dq_reduzido,dgu_dl_reduzido],dtype=float)\n",
    "  list_grad.append(gradiente_gu_mpp)\n",
    "\n",
    "#### FUNÇÃO DE PERFORMANCE DO ESPAÇO REDUZIDO CALCULADO NO MPP STAR\n",
    "  G_u_mpp=((2/(X[0].subs(h_reduzido,mpp_star[0])+(2*X[1].subs(t_reduzido,mpp_star[1]))))*(X[2].subs(sigma_fibra_reduzido,mpp_star[2])/X[3].subs(E_fibra_reduzido,mpp_star[3]))*(rho_fibra*X[3].subs(E_fibra_reduzido,mpp_star[3])+rho_matriz*X[4].subs(E_matriz_reduzido,mpp_star[4]))*((X[1].subs(t_reduzido,mpp_star[1])/12)*((X[0].subs(h_reduzido,mpp_star[0])**3)+((2*X[5].subs(b_reduzido,mpp_star[5]))*((4*X[1].subs(t_reduzido,mpp_star[1])**2)+(3*(X[0].subs(h_reduzido,mpp_star[0])**2)))))))-((X[6].subs(q_reduzido,mpp_star[6])*(X[7].subs(l_reduzido,mpp_star[7])**2))/2)\n",
    "  list_g_U.append(G_u_mpp)\n",
    "\n",
    "###MÓDULO DO VETOR GRADIENTE CALCULADO NO MPP\n",
    "  mod_gradiente_gu_mpp= np.linalg.norm(gradiente_gu_mpp)\n",
    "\n",
    "#### NORMA\n",
    "  ao=np.array([gradiente_gu_mpp[0]/mod_gradiente_gu_mpp,gradiente_gu_mpp[1]/mod_gradiente_gu_mpp,gradiente_gu_mpp[2]/mod_gradiente_gu_mpp,gradiente_gu_mpp[3]/mod_gradiente_gu_mpp,gradiente_gu_mpp[4]/mod_gradiente_gu_mpp,gradiente_gu_mpp[5]/mod_gradiente_gu_mpp,gradiente_gu_mpp[6]/mod_gradiente_gu_mpp,gradiente_gu_mpp[7]/mod_gradiente_gu_mpp])\n",
    "\n",
    "#### BETA\n",
    "  beta_0=np.linalg.norm(mpp_star)\n",
    "\n",
    "#### NOVO MPP STAR\n",
    "  mpp_star=np.multiply(ao, -1)\n",
    "  mpp_star=(np.multiply(mpp_star, (beta_0+(G_u_mpp/mod_gradiente_gu_mpp)))).astype(float)\n",
    "  list_mpp.append(mpp_star)\n",
    "\n",
    "#### BETA CORRIGIDO * MPP\n",
    "  beta_c=np.linalg.norm(mpp_star)\n",
    "  list_beta.append(beta_c)\n",
    "\n",
    "#### ITERAÇÃO E CONVERGÊNCIA\n",
    "  i+=1\n",
    "  dif_beta=abs(beta_c-beta_0)\n",
    "\n",
    "#### compila resultados\n",
    "data_resultados[\"Iteração\"]=list_i\n",
    "data_resultados[\"beta\"]=list_beta\n",
    "data_resultados[\"G(u)\"]=list_g_U\n",
    "data_resultados[\"Grad_G(u)\"]=list_grad\n",
    "data_resultados[\"(U_x,U_y)\"]=list_mpp\n",
    "\n",
    "#### COMPUTA A PROBABILIDADE DE FALHA:\n",
    "pf= float (norm.cdf(-data_resultados.iloc[-1:].beta))\n",
    "beta= float (data_resultados.iloc[-1:].beta)\n",
    "\n",
    "#### VERIFICAÇÃO FUNÇÃO DE PERFORMANCE NAS MÉDIAS INICIAIS:\n",
    "if ((2/(d_h[0]+(2*d_t[0])))*(d_sigma_fibra[0]/d_E_fibra[0])*(rho_fibra*d_E_fibra[0]+rho_matriz*d_E_matriz[0])*((d_t[0]/12)*((d_h[0]**3)+((2*d_b[0])*((4*d_t[0]**2)+(3*(d_h[0]**2)))))))-((d_q[0]*(d_l[0]**2))/2) > 0:\n",
    "    pf= float (norm.cdf(-data_resultados.iloc[-1:].beta))\n",
    "else:\n",
    "  print (\"Na média a função de performance Falha necessário alterar valor de beta\")\n",
    "  pf= float (norm.cdf(-(-data_resultados.iloc[-1:].beta)))\n",
    "\n",
    "print (\"\\nbeta\" , beta)\n",
    "print (\"probabilidade de falha\" , round (pf,2)*100,\"%\")\n",
    "#### FIM MÉTODO FORM"
   ],
   "execution_count": 7,
   "outputs": [
    {
     "name": "stdout",
     "output_type": "stream",
     "text": [
      "\n",
      "beta 0.14805397095227968\n",
      "probabilidade de falha 44.0 %\n"
     ]
    }
   ]
  },
  {
   "cell_type": "code",
   "metadata": {
    "colab": {
     "base_uri": "https://localhost:8080/",
     "height": 143
    },
    "id": "QDA5wUxtGqaD",
    "outputId": "edcc8e5b-a137-4b50-c6ed-32908601d022",
    "ExecuteTime": {
     "end_time": "2023-06-16T02:39:01.228563800Z",
     "start_time": "2023-06-16T02:39:01.167726600Z"
    }
   },
   "source": [
    "data_resultados"
   ],
   "execution_count": 8,
   "outputs": [
    {
     "data": {
      "text/plain": "   Iteração      beta                G(u)  \\\n0         0  0.148065    4693.43245239195   \n1         1  0.148059  -0.206325351435225   \n2         2  0.148054  -0.144537536893040   \n\n                                           Grad_G(u)  \\\n0  [16106.888538156376, 8838.138838885809, 10407....   \n1  [15988.05630293889, 8758.498291838416, 10319.5...   \n2  [15989.054298182904, 8759.121270682286, 10320....   \n\n                                           (U_x,U_y)  \n0  [-0.0752360742947968, -0.0412833843566321, -0....  \n1  [-0.0746684272292043, -0.04090449019878878, -0...  \n2  [-0.07466619324307061, -0.04090362251822358, -...  ",
      "text/html": "<div>\n<style scoped>\n    .dataframe tbody tr th:only-of-type {\n        vertical-align: middle;\n    }\n\n    .dataframe tbody tr th {\n        vertical-align: top;\n    }\n\n    .dataframe thead th {\n        text-align: right;\n    }\n</style>\n<table border=\"1\" class=\"dataframe\">\n  <thead>\n    <tr style=\"text-align: right;\">\n      <th></th>\n      <th>Iteração</th>\n      <th>beta</th>\n      <th>G(u)</th>\n      <th>Grad_G(u)</th>\n      <th>(U_x,U_y)</th>\n    </tr>\n  </thead>\n  <tbody>\n    <tr>\n      <th>0</th>\n      <td>0</td>\n      <td>0.148065</td>\n      <td>4693.43245239195</td>\n      <td>[16106.888538156376, 8838.138838885809, 10407....</td>\n      <td>[-0.0752360742947968, -0.0412833843566321, -0....</td>\n    </tr>\n    <tr>\n      <th>1</th>\n      <td>1</td>\n      <td>0.148059</td>\n      <td>-0.206325351435225</td>\n      <td>[15988.05630293889, 8758.498291838416, 10319.5...</td>\n      <td>[-0.0746684272292043, -0.04090449019878878, -0...</td>\n    </tr>\n    <tr>\n      <th>2</th>\n      <td>2</td>\n      <td>0.148054</td>\n      <td>-0.144537536893040</td>\n      <td>[15989.054298182904, 8759.121270682286, 10320....</td>\n      <td>[-0.07466619324307061, -0.04090362251822358, -...</td>\n    </tr>\n  </tbody>\n</table>\n</div>"
     },
     "execution_count": 8,
     "metadata": {},
     "output_type": "execute_result"
    }
   ]
  },
  {
   "cell_type": "markdown",
   "metadata": {
    "id": "i7WMqte5iU3W"
   },
   "source": [
    "#<center> RESOLUÇÃO VIA MONTE CARLO </center>"
   ]
  },
  {
   "cell_type": "code",
   "metadata": {
    "colab": {
     "base_uri": "https://localhost:8080/"
    },
    "id": "XfX3w4ewzBq4",
    "outputId": "c3e10938-052f-40d8-d248-8f1d2e1acc93",
    "ExecuteTime": {
     "end_time": "2023-06-16T02:39:32.087746500Z",
     "start_time": "2023-06-16T02:39:15.377634800Z"
    }
   },
   "source": [
    "#### DISTRIBUIÇÕES DE PROBABILIDADE INICIAIS VARIÁVEIS ALEÁTORIAS:\n",
    "# d_h=(0.2,0.01) # ~ Normal (m)\n",
    "# d_t=(0.02,0.001) # ~ Normal (m)\n",
    "# d_sigma_fibra=(3516000000,175800000) # ~ Normal (m)\n",
    "# d_E_fibra=(234430000000,11721500000) # ~ Normal (N/m^2)\n",
    "# d_E_matriz=(3350000000,167500000) # ~ Normal (N/m^2)\n",
    "# d_b=(0.05,0.0025) # ~ Normal (m)\n",
    "# d_q=(100000,5000) # ~ Extremo tipo I (N)\n",
    "# d_l=(2,0.100) # ~ Normal (m)\n",
    "\n",
    "### VETOR NÚMEROS ALEÁTORIOS:\n",
    "v_h=gera_distribuicao_normal(mu=d_h[0], sigma=d_h[1])\n",
    "v_t=gera_distribuicao_normal(mu=d_t[0], sigma=d_t[1])\n",
    "v_sigma_fibra=gera_distribuicao_normal(mu=d_sigma_fibra[0], sigma  = d_sigma_fibra[1])\n",
    "v_E_fibra=gera_distribuicao_normal(mu=d_E_fibra[0], sigma=d_E_fibra[1])\n",
    "v_E_matriz=gera_distribuicao_normal(mu=d_E_matriz[0], sigma=d_E_matriz[1])\n",
    "v_b=gera_distribuicao_normal(mu=d_b[0], sigma  = d_b[1])\n",
    "v_q=gera_distribuicao_extremo_tipo_1(mu=d_q[0], sigma  = d_q[1])\n",
    "v_l=gera_distribuicao_normal(mu=d_l[0], sigma  = d_l[1])\n",
    "\n",
    "\n",
    "#### CRIAÇÃO DO DATAFRAME:\n",
    "df=pd.DataFrame()\n",
    "df[\"h\"]=v_h\n",
    "df[\"t\"]=v_t\n",
    "df[\"sigma_fibra\"]=v_sigma_fibra\n",
    "df[\"E_fibra\"]=v_E_fibra\n",
    "df[\"E_matriz\"]=v_E_matriz\n",
    "df[\"b\"]=v_b\n",
    "df[\"q\"]=v_q\n",
    "df[\"l\"]=v_l\n",
    "\n",
    "#### CÁLCULO DA FUNÇÃO DE PERFORMANCE:\n",
    "df[\"funcao_de_performance\"]=(((2/(df[\"h\"]+(2*df[\"t\"])))*(df[\"sigma_fibra\"]/df[\"E_fibra\"])*(rho_fibra*df[\"E_fibra\"]+rho_matriz*df[\"E_matriz\"])*((df[\"t\"]/12)*((df[\"h\"]**3)+((2*df[\"b\"])*((4*df[\"t\"]**2)+(3*(df[\"h\"]**2)))))))-((df[\"q\"]*(df[\"l\"]**2))/2))\n",
    "\n",
    "#### EXIBINDO PRIMEIRAS LINHAS DO DATAFRAME:\n",
    "df.head()\n",
    "\n",
    "\n",
    "### CALCULANDO PROBABILIDADE DE FALHA PELA DEFINIÇÃO:\n",
    "\n",
    "print (\"probabilidade de falha\" , round ((df.loc[df.funcao_de_performance<0].shape[0]/df.shape[0]),2)*100,\"%\")\n",
    "\n",
    "### CALCULANDO BETA MONTE CARLO:\n",
    "beta =df.funcao_de_performance.mean()/df.funcao_de_performance.std()\n",
    "\n",
    "print (\"beta Monte Carlo\" ,beta)\n",
    "\n",
    "### CALCULANDO PROBABILIDADE DE FALHA (integral de zero até beta)\n",
    "#norm.cdf(-beta)"
   ],
   "execution_count": 9,
   "outputs": [
    {
     "name": "stdout",
     "output_type": "stream",
     "text": [
      "probabilidade de falha 34.0 %\n",
      "beta Monte Carlo 0.4250736333677789\n"
     ]
    }
   ]
  },
  {
   "cell_type": "markdown",
   "metadata": {
    "id": "fFCuY8yL6Tqj"
   },
   "source": [
    "#<center> PDF DA FUNÇÃO DE PERFOMANCE </center>"
   ]
  },
  {
   "cell_type": "code",
   "metadata": {
    "colab": {
     "base_uri": "https://localhost:8080/",
     "height": 405
    },
    "id": "69_dxs-u6G6C",
    "outputId": "d8424a80-0a90-44d2-faf0-61ee2d7f7260",
    "ExecuteTime": {
     "end_time": "2023-06-16T02:40:26.571104700Z",
     "start_time": "2023-06-16T02:40:24.398043500Z"
    }
   },
   "source": [
    "gera_grafico_distribuicao(df.funcao_de_performance, label='PDF da Função performance',name='')"
   ],
   "execution_count": 12,
   "outputs": [
    {
     "data": {
      "text/plain": "<Figure size 640x480 with 0 Axes>"
     },
     "metadata": {},
     "output_type": "display_data"
    },
    {
     "data": {
      "text/plain": "<Figure size 500x500 with 1 Axes>",
      "image/png": "[encoded data removed]"
     },
     "metadata": {},
     "output_type": "display_data"
    }
   ]
  }
 ]
}
